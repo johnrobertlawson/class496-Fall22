{
 "cells": [
  {
   "cell_type": "markdown",
   "source": [
    "## Class 496: weather observations and random forests\n",
    "\n",
    "In this tutorial, we will mix weather observation archives with a Random Forest (RF) classifier model. Our goal is to use historical observation data for Valparaiso to see if we can predict the 12Z dry-bulb temperature using the 00Z observations alone.\n",
    "\n",
    "Our progress will go:\n",
    "- Obtain weather data for Valpo\n",
    "- Decide which weather variables may be most important\n",
    "- Produce one \"post-processed\" variable such as change in dry-bulb temperature over 6 hours\n",
    "- Get the data into the right format (remove NaNs; correct dimensions)\n",
    "- Train a RF classifier with half of the dataset; test with the other half\n",
    "- Verify the performance with R-squared, mean-absolute-error (MAE), mean-squared-error (MSE), or similar\n",
    "- Return to pick different variables, or \"tune the dials\" of the RF model.\n",
    "\n"
   ],
   "metadata": {
    "collapsed": false
   }
  },
  {
   "cell_type": "markdown",
   "source": [
    "### First, we need to download data from Synoptic, a repository for online weather observations in the US\n",
    "You will need a token, which is like a password to download the data. When prompted, JRL can send you this but it should not be used outside of this assignment today. You can visit the Synoptic website if you'd like to get your own token at [synopticdata.com]().\n",
    "\n",
    "You will also need to pick a good weather station near here. Try choosing one via a GUI at [www.mesowest.edu]()."
   ],
   "metadata": {
    "collapsed": false
   }
  },
  {
   "cell_type": "code",
   "execution_count": null,
   "outputs": [],
   "source": [
    "from synoptic.services import stations_timeseries\n"
   ],
   "metadata": {
    "collapsed": false
   }
  },
  {
   "cell_type": "markdown",
   "source": [
    "### Get the data tidy (e.g., remove NaNs or missing data), and list out the variables."
   ],
   "metadata": {
    "collapsed": false
   }
  },
  {
   "cell_type": "code",
   "execution_count": null,
   "outputs": [],
   "source": [],
   "metadata": {
    "collapsed": false
   }
  },
  {
   "cell_type": "markdown",
   "source": [
    "### Convert the date and time into a format the RF will understand\n",
    "For this, we will [https://www.mikulskibartosz.name/time-in-machine-learning/](take some assistance) from an online blog:\n",
    "\n",
    "```python\n",
    "# Here, df is the dataframe with our observations\n",
    "def convert_time_to_angles(self,df):\n",
    "    # Get the week number - depends on the format of the timestamps\n",
    "    week_num = pd.Int64Index(df.index.isocalendar().week)\n",
    "    # Decompose into sines and cosines.\n",
    "    df[\"week_sin\"] = np.sin(week_num * ((2/np.pi)/52))\n",
    "    df[\"week_cos\"] = np.cos(week_num * ((2/np.pi)/52))\n",
    "\n",
    "    # Time of day is important too\n",
    "    hr = df.index.hour\n",
    "    min = df.index.minute\n",
    "    df[\"time_sin\"] = np.sin((hr+min/60)*((2/np.pi)/24))\n",
    "    df[\"time_cos\"] = np.cos((hr+min/60)*((2/np.pi)/24))\n",
    "```\n",
    "\n",
    "Now implement this yourself in our context."
   ],
   "metadata": {
    "collapsed": false
   }
  },
  {
   "cell_type": "code",
   "execution_count": null,
   "outputs": [],
   "source": [],
   "metadata": {
    "collapsed": false
   }
  },
  {
   "cell_type": "markdown",
   "source": [
    "### Let's train the RF classifier. Can we pass in a 6-hour temperature change as a way to provide \"memory\" to the RF model?"
   ],
   "metadata": {
    "collapsed": false
   }
  },
  {
   "cell_type": "code",
   "execution_count": null,
   "outputs": [],
   "source": [],
   "metadata": {
    "collapsed": false
   }
  },
  {
   "cell_type": "code",
   "execution_count": null,
   "outputs": [],
   "source": [],
   "metadata": {
    "collapsed": false
   }
  },
  {
   "cell_type": "markdown",
   "source": [
    "### Evaluate (verify) performance using a few measures.\n",
    "Check the sklearn documentation for modules you can import to help (`sklearn.metrics`).\n"
   ],
   "metadata": {
    "collapsed": false
   }
  },
  {
   "cell_type": "code",
   "execution_count": null,
   "outputs": [],
   "source": [],
   "metadata": {
    "collapsed": false
   }
  },
  {
   "cell_type": "markdown",
   "source": [
    "### Iterate!\n",
    "At this point, if we find ourselves repeating code, or want to avoid having to copy, paste, edit, and produce spaghetti... We can make loose code into functions. Have a browse above to see if that's something to do before we move on to iterating the model.\n",
    "\n",
    "#### What can we change?\n",
    "For instance:\n",
    "- Variables\n",
    "- RF forest size\n",
    "- RF parameters in documentation (here be dragons!)"
   ],
   "metadata": {
    "collapsed": false
   }
  },
  {
   "cell_type": "markdown",
   "source": [],
   "metadata": {
    "collapsed": false
   }
  }
 ],
 "metadata": {
  "kernelspec": {
   "display_name": "Python 3",
   "language": "python",
   "name": "python3"
  },
  "language_info": {
   "codemirror_mode": {
    "name": "ipython",
    "version": 2
   },
   "file_extension": ".py",
   "mimetype": "text/x-python",
   "name": "python",
   "nbconvert_exporter": "python",
   "pygments_lexer": "ipython2",
   "version": "2.7.6"
  }
 },
 "nbformat": 4,
 "nbformat_minor": 0
}
