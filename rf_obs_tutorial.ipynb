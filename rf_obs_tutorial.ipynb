{
 "cells": [
  {
   "cell_type": "markdown",
   "source": [
    "## Class 496: weather observations and random forests\n",
    "\n",
    "In this tutorial, we will mix weather observation archives with a Random Forest (RF) classifier model. Our goal is to use historical observation data for Valparaiso to see if we can predict the 12Z dry-bulb temperature using the 00Z observations alone.\n",
    "\n",
    "Our progress will go:\n",
    "- Obtain weather data for Valpo\n",
    "- Decide which weather variables may be most important\n",
    "- Produce one \"post-processed\" variable such as change in dry-bulb temperature over 6 hours\n",
    "- Get the data into the right format (remove NaNs; correct dimensions)\n",
    "- Train a RF classifier with half of the dataset; test with the other half\n",
    "- Verify the performance with R-squared, mean-absolute-error (MAE), mean-squared-error (MSE), or similar\n",
    "- Return to pick different variables, or \"tune the dials\" of the RF model.\n",
    "\n"
   ],
   "metadata": {
    "collapsed": false
   }
  },
  {
   "cell_type": "markdown",
   "source": [
    "### First, we need to download data from Synoptic, a repository for online weather observations in the US\n",
    "You will need a token, which is like a password to download the data. When prompted, JRL can send you this but it should not be used outside of this assignment today. You can visit the Synoptic website if you'd like to get your own token at [synopticdata.com]().\n",
    "\n",
    "You will also need to pick a good weather station near here. Try choosing one via a GUI at [www.mesowest.edu]()."
   ],
   "metadata": {
    "collapsed": false
   }
  },
  {
   "cell_type": "code",
   "execution_count": 91,
   "outputs": [
    {
     "name": "stdout",
     "output_type": "stream",
     "text": [
      "\n",
      " 🚚💨 Speedy Delivery from Synoptic API [timeseries]: https://api.synopticdata.com/v2/stations/timeseries?stid=KGRR&vars=air_temp,wind_speed,dew_point_temperature&start=202110200000&end=202210200000&token=🙈HIDDEN\n",
      "\n"
     ]
    }
   ],
   "source": [
    "from synoptic.services import stations_timeseries\n",
    "from datetime import datetime\n",
    "import pandas as pd\n",
    "import numpy as np\n",
    "\n",
    "df = stations_timeseries(stid='KGRR', vars=['air_temp', 'wind_speed', 'dew_point_temperature'],\n",
    "                         start=datetime(2021,10,20),\n",
    "                         end=datetime(2022,10,20))\n"
   ],
   "metadata": {
    "collapsed": false
   }
  },
  {
   "cell_type": "code",
   "execution_count": 91,
   "outputs": [],
   "source": [],
   "metadata": {
    "collapsed": false
   }
  },
  {
   "cell_type": "code",
   "execution_count": 92,
   "outputs": [
    {
     "data": {
      "text/plain": "                           air_temp  dew_point_temperature  wind_speed\ndate_time                                                             \n2021-10-20 00:00:00+00:00      16.0                   8.95       2.058\n2021-10-20 00:05:00+00:00      16.0                   8.95       2.058\n2021-10-20 00:10:00+00:00      16.0                   8.95       2.058\n2021-10-20 00:15:00+00:00      15.0                   8.95       2.058\n2021-10-20 00:20:00+00:00      16.0                   8.95       2.058\n...                             ...                    ...         ...\n2022-10-19 23:45:00+00:00       3.0                  -3.08       4.116\n2022-10-19 23:50:00+00:00       3.0                  -2.07       4.116\n2022-10-19 23:53:00+00:00       3.3                  -2.28       3.087\n2022-10-19 23:55:00+00:00       3.0                  -2.07       3.601\n2022-10-20 00:00:00+00:00       3.0                  -2.07       3.601\n\n[113399 rows x 3 columns]",
      "text/html": "<div>\n<style scoped>\n    .dataframe tbody tr th:only-of-type {\n        vertical-align: middle;\n    }\n\n    .dataframe tbody tr th {\n        vertical-align: top;\n    }\n\n    .dataframe thead th {\n        text-align: right;\n    }\n</style>\n<table border=\"1\" class=\"dataframe\">\n  <thead>\n    <tr style=\"text-align: right;\">\n      <th></th>\n      <th>air_temp</th>\n      <th>dew_point_temperature</th>\n      <th>wind_speed</th>\n    </tr>\n    <tr>\n      <th>date_time</th>\n      <th></th>\n      <th></th>\n      <th></th>\n    </tr>\n  </thead>\n  <tbody>\n    <tr>\n      <th>2021-10-20 00:00:00+00:00</th>\n      <td>16.0</td>\n      <td>8.95</td>\n      <td>2.058</td>\n    </tr>\n    <tr>\n      <th>2021-10-20 00:05:00+00:00</th>\n      <td>16.0</td>\n      <td>8.95</td>\n      <td>2.058</td>\n    </tr>\n    <tr>\n      <th>2021-10-20 00:10:00+00:00</th>\n      <td>16.0</td>\n      <td>8.95</td>\n      <td>2.058</td>\n    </tr>\n    <tr>\n      <th>2021-10-20 00:15:00+00:00</th>\n      <td>15.0</td>\n      <td>8.95</td>\n      <td>2.058</td>\n    </tr>\n    <tr>\n      <th>2021-10-20 00:20:00+00:00</th>\n      <td>16.0</td>\n      <td>8.95</td>\n      <td>2.058</td>\n    </tr>\n    <tr>\n      <th>...</th>\n      <td>...</td>\n      <td>...</td>\n      <td>...</td>\n    </tr>\n    <tr>\n      <th>2022-10-19 23:45:00+00:00</th>\n      <td>3.0</td>\n      <td>-3.08</td>\n      <td>4.116</td>\n    </tr>\n    <tr>\n      <th>2022-10-19 23:50:00+00:00</th>\n      <td>3.0</td>\n      <td>-2.07</td>\n      <td>4.116</td>\n    </tr>\n    <tr>\n      <th>2022-10-19 23:53:00+00:00</th>\n      <td>3.3</td>\n      <td>-2.28</td>\n      <td>3.087</td>\n    </tr>\n    <tr>\n      <th>2022-10-19 23:55:00+00:00</th>\n      <td>3.0</td>\n      <td>-2.07</td>\n      <td>3.601</td>\n    </tr>\n    <tr>\n      <th>2022-10-20 00:00:00+00:00</th>\n      <td>3.0</td>\n      <td>-2.07</td>\n      <td>3.601</td>\n    </tr>\n  </tbody>\n</table>\n<p>113399 rows × 3 columns</p>\n</div>"
     },
     "execution_count": 92,
     "metadata": {},
     "output_type": "execute_result"
    }
   ],
   "source": [
    "df.drop(labels='dew_point_temperature_set_1', axis=1, inplace=True)\n",
    "df.dropna(inplace=True)\n",
    "df"
   ],
   "metadata": {
    "collapsed": false
   }
  },
  {
   "cell_type": "markdown",
   "source": [
    "### Get the data tidy (e.g., remove NaNs or missing data), and list out the variables."
   ],
   "metadata": {
    "collapsed": false
   }
  },
  {
   "cell_type": "code",
   "execution_count": 92,
   "outputs": [],
   "source": [],
   "metadata": {
    "collapsed": false
   }
  },
  {
   "cell_type": "code",
   "execution_count": 93,
   "outputs": [
    {
     "name": "stdout",
     "output_type": "stream",
     "text": [
      "                           air_temp  dew_point_temperature  wind_speed\n",
      "date_time                                                             \n",
      "2021-10-20 00:00:00+00:00      16.0                   8.95       2.058\n",
      "2021-10-21 00:00:00+00:00      16.0                  12.98       2.572\n",
      "2021-10-22 00:00:00+00:00       9.0                   6.97       6.173\n",
      "2021-10-23 00:00:00+00:00       8.0                   6.99       0.000\n",
      "2021-10-24 00:00:00+00:00       7.0                   5.99       0.000\n",
      "...                             ...                    ...         ...\n",
      "2022-10-16 00:00:00+00:00       6.0                   0.93       2.572\n",
      "2022-10-17 00:00:00+00:00       7.0                   4.97       2.572\n",
      "2022-10-18 00:00:00+00:00       5.0                   1.96       7.717\n",
      "2022-10-19 00:00:00+00:00       4.0                   1.97       7.717\n",
      "2022-10-20 00:00:00+00:00       3.0                  -2.07       3.601\n",
      "\n",
      "[358 rows x 3 columns]                            air_temp  dew_point_temperature  wind_speed\n",
      "date_time                                                             \n",
      "2021-10-20 12:00:00+00:00       8.0                   8.00       2.058\n",
      "2021-10-21 12:00:00+00:00      15.0                  13.99       4.116\n",
      "2021-10-22 12:00:00+00:00       5.0                   3.99       0.000\n",
      "2021-10-23 12:00:00+00:00       6.0                   6.00       2.058\n",
      "2021-10-24 12:00:00+00:00      -1.0                  -1.00       0.000\n",
      "...                             ...                    ...         ...\n",
      "2022-10-15 12:00:00+00:00       3.0                   0.97       3.601\n",
      "2022-10-16 12:00:00+00:00       5.0                   2.97       1.543\n",
      "2022-10-17 12:00:00+00:00       4.0                   1.97       5.659\n",
      "2022-10-18 12:00:00+00:00       3.0                  -1.06       8.231\n",
      "2022-10-19 12:00:00+00:00       4.0                   1.97       5.659\n",
      "\n",
      "[358 rows x 3 columns]\n"
     ]
    }
   ],
   "source": [
    "df0 = df[(df.index.hour == 0) & (df.index.minute == 0)]\n",
    "df12 = df[(df.index.hour == 12) & (df.index.minute == 0)]\n",
    "\n",
    "print(df0,df12)"
   ],
   "metadata": {
    "collapsed": false
   }
  },
  {
   "cell_type": "markdown",
   "source": [
    "### Convert the date and time into a format the RF will understand\n",
    "For this, we will [https://www.mikulskibartosz.name/time-in-machine-learning/](take some assistance) from an online blog:\n",
    "\n",
    "```python\n",
    "# Here, df is the dataframe with our observations\n",
    "def convert_time_to_angles(self,df):\n",
    "    # Get the week number - depends on the format of the timestamps\n",
    "    week_num = pd.Int64Index(df.index.isocalendar().week)\n",
    "    # Decompose into sines and cosines.\n",
    "    df[\"week_sin\"] = np.sin(week_num * ((2/np.pi)/52))\n",
    "    df[\"week_cos\"] = np.cos(week_num * ((2/np.pi)/52))\n",
    "\n",
    "    # Time of day is important too\n",
    "    hr = df.index.hour\n",
    "    min = df.index.minute\n",
    "    df[\"time_sin\"] = np.sin((hr+min/60)*((2/np.pi)/24))\n",
    "    df[\"time_cos\"] = np.cos((hr+min/60)*((2/np.pi)/24))\n",
    "```\n",
    "\n",
    "Now implement this yourself in our context."
   ],
   "metadata": {
    "collapsed": false
   }
  },
  {
   "cell_type": "code",
   "execution_count": 94,
   "outputs": [
    {
     "name": "stderr",
     "output_type": "stream",
     "text": [
      "C:\\Users\\jlawson4\\AppData\\Local\\Temp\\ipykernel_42812\\148916507.py:1: FutureWarning: pandas.Int64Index is deprecated and will be removed from pandas in a future version. Use pandas.Index with the appropriate dtype instead.\n",
      "  week_num = pd.Int64Index(df0.index.isocalendar().week)\n",
      "C:\\Users\\jlawson4\\AppData\\Local\\Temp\\ipykernel_42812\\148916507.py:2: SettingWithCopyWarning: \n",
      "A value is trying to be set on a copy of a slice from a DataFrame.\n",
      "Try using .loc[row_indexer,col_indexer] = value instead\n",
      "\n",
      "See the caveats in the documentation: https://pandas.pydata.org/pandas-docs/stable/user_guide/indexing.html#returning-a-view-versus-a-copy\n",
      "  df0.loc[:,\"weeks_sin\"] = np.sin(week_num * ((2/np.pi)/52))\n",
      "C:\\Users\\jlawson4\\AppData\\Local\\Temp\\ipykernel_42812\\148916507.py:3: SettingWithCopyWarning: \n",
      "A value is trying to be set on a copy of a slice from a DataFrame.\n",
      "Try using .loc[row_indexer,col_indexer] = value instead\n",
      "\n",
      "See the caveats in the documentation: https://pandas.pydata.org/pandas-docs/stable/user_guide/indexing.html#returning-a-view-versus-a-copy\n",
      "  df0.loc[:,\"weeks_cos\"] = np.cos(week_num * ((2/np.pi)/52))\n",
      "C:\\Users\\jlawson4\\AppData\\Local\\Temp\\ipykernel_42812\\148916507.py:8: SettingWithCopyWarning: \n",
      "A value is trying to be set on a copy of a slice from a DataFrame.\n",
      "Try using .loc[row_indexer,col_indexer] = value instead\n",
      "\n",
      "See the caveats in the documentation: https://pandas.pydata.org/pandas-docs/stable/user_guide/indexing.html#returning-a-view-versus-a-copy\n",
      "  df0.loc[:,\"hours_sin\"] = np.sin((hr0)*((2/np.pi)/24))\n",
      "C:\\Users\\jlawson4\\AppData\\Local\\Temp\\ipykernel_42812\\148916507.py:9: SettingWithCopyWarning: \n",
      "A value is trying to be set on a copy of a slice from a DataFrame.\n",
      "Try using .loc[row_indexer,col_indexer] = value instead\n",
      "\n",
      "See the caveats in the documentation: https://pandas.pydata.org/pandas-docs/stable/user_guide/indexing.html#returning-a-view-versus-a-copy\n",
      "  df0.loc[:,\"hours_cos\"] = np.cos((hr0)*((2/np.pi)/24))\n"
     ]
    },
    {
     "data": {
      "text/plain": "                           air_temp  dew_point_temperature  wind_speed  \\\ndate_time                                                                \n2021-10-20 00:00:00+00:00      16.0                   8.95       2.058   \n2021-10-21 00:00:00+00:00      16.0                  12.98       2.572   \n2021-10-22 00:00:00+00:00       9.0                   6.97       6.173   \n2021-10-23 00:00:00+00:00       8.0                   6.99       0.000   \n2021-10-24 00:00:00+00:00       7.0                   5.99       0.000   \n...                             ...                    ...         ...   \n2022-10-16 00:00:00+00:00       6.0                   0.93       2.572   \n2022-10-17 00:00:00+00:00       7.0                   4.97       2.572   \n2022-10-18 00:00:00+00:00       5.0                   1.96       7.717   \n2022-10-19 00:00:00+00:00       4.0                   1.97       7.717   \n2022-10-20 00:00:00+00:00       3.0                  -2.07       3.601   \n\n                           weeks_sin  weeks_cos  hours_sin  hours_cos  \ndate_time                                                              \n2021-10-20 00:00:00+00:00   0.491832   0.870690        0.0        1.0  \n2021-10-21 00:00:00+00:00   0.491832   0.870690        0.0        1.0  \n2021-10-22 00:00:00+00:00   0.491832   0.870690        0.0        1.0  \n2021-10-23 00:00:00+00:00   0.491832   0.870690        0.0        1.0  \n2021-10-24 00:00:00+00:00   0.491832   0.870690        0.0        1.0  \n...                              ...        ...        ...        ...  \n2022-10-16 00:00:00+00:00   0.481136   0.876646        0.0        1.0  \n2022-10-17 00:00:00+00:00   0.491832   0.870690        0.0        1.0  \n2022-10-18 00:00:00+00:00   0.491832   0.870690        0.0        1.0  \n2022-10-19 00:00:00+00:00   0.491832   0.870690        0.0        1.0  \n2022-10-20 00:00:00+00:00   0.491832   0.870690        0.0        1.0  \n\n[358 rows x 7 columns]",
      "text/html": "<div>\n<style scoped>\n    .dataframe tbody tr th:only-of-type {\n        vertical-align: middle;\n    }\n\n    .dataframe tbody tr th {\n        vertical-align: top;\n    }\n\n    .dataframe thead th {\n        text-align: right;\n    }\n</style>\n<table border=\"1\" class=\"dataframe\">\n  <thead>\n    <tr style=\"text-align: right;\">\n      <th></th>\n      <th>air_temp</th>\n      <th>dew_point_temperature</th>\n      <th>wind_speed</th>\n      <th>weeks_sin</th>\n      <th>weeks_cos</th>\n      <th>hours_sin</th>\n      <th>hours_cos</th>\n    </tr>\n    <tr>\n      <th>date_time</th>\n      <th></th>\n      <th></th>\n      <th></th>\n      <th></th>\n      <th></th>\n      <th></th>\n      <th></th>\n    </tr>\n  </thead>\n  <tbody>\n    <tr>\n      <th>2021-10-20 00:00:00+00:00</th>\n      <td>16.0</td>\n      <td>8.95</td>\n      <td>2.058</td>\n      <td>0.491832</td>\n      <td>0.870690</td>\n      <td>0.0</td>\n      <td>1.0</td>\n    </tr>\n    <tr>\n      <th>2021-10-21 00:00:00+00:00</th>\n      <td>16.0</td>\n      <td>12.98</td>\n      <td>2.572</td>\n      <td>0.491832</td>\n      <td>0.870690</td>\n      <td>0.0</td>\n      <td>1.0</td>\n    </tr>\n    <tr>\n      <th>2021-10-22 00:00:00+00:00</th>\n      <td>9.0</td>\n      <td>6.97</td>\n      <td>6.173</td>\n      <td>0.491832</td>\n      <td>0.870690</td>\n      <td>0.0</td>\n      <td>1.0</td>\n    </tr>\n    <tr>\n      <th>2021-10-23 00:00:00+00:00</th>\n      <td>8.0</td>\n      <td>6.99</td>\n      <td>0.000</td>\n      <td>0.491832</td>\n      <td>0.870690</td>\n      <td>0.0</td>\n      <td>1.0</td>\n    </tr>\n    <tr>\n      <th>2021-10-24 00:00:00+00:00</th>\n      <td>7.0</td>\n      <td>5.99</td>\n      <td>0.000</td>\n      <td>0.491832</td>\n      <td>0.870690</td>\n      <td>0.0</td>\n      <td>1.0</td>\n    </tr>\n    <tr>\n      <th>...</th>\n      <td>...</td>\n      <td>...</td>\n      <td>...</td>\n      <td>...</td>\n      <td>...</td>\n      <td>...</td>\n      <td>...</td>\n    </tr>\n    <tr>\n      <th>2022-10-16 00:00:00+00:00</th>\n      <td>6.0</td>\n      <td>0.93</td>\n      <td>2.572</td>\n      <td>0.481136</td>\n      <td>0.876646</td>\n      <td>0.0</td>\n      <td>1.0</td>\n    </tr>\n    <tr>\n      <th>2022-10-17 00:00:00+00:00</th>\n      <td>7.0</td>\n      <td>4.97</td>\n      <td>2.572</td>\n      <td>0.491832</td>\n      <td>0.870690</td>\n      <td>0.0</td>\n      <td>1.0</td>\n    </tr>\n    <tr>\n      <th>2022-10-18 00:00:00+00:00</th>\n      <td>5.0</td>\n      <td>1.96</td>\n      <td>7.717</td>\n      <td>0.491832</td>\n      <td>0.870690</td>\n      <td>0.0</td>\n      <td>1.0</td>\n    </tr>\n    <tr>\n      <th>2022-10-19 00:00:00+00:00</th>\n      <td>4.0</td>\n      <td>1.97</td>\n      <td>7.717</td>\n      <td>0.491832</td>\n      <td>0.870690</td>\n      <td>0.0</td>\n      <td>1.0</td>\n    </tr>\n    <tr>\n      <th>2022-10-20 00:00:00+00:00</th>\n      <td>3.0</td>\n      <td>-2.07</td>\n      <td>3.601</td>\n      <td>0.491832</td>\n      <td>0.870690</td>\n      <td>0.0</td>\n      <td>1.0</td>\n    </tr>\n  </tbody>\n</table>\n<p>358 rows × 7 columns</p>\n</div>"
     },
     "execution_count": 94,
     "metadata": {},
     "output_type": "execute_result"
    }
   ],
   "source": [
    "week_num = pd.Int64Index(df0.index.isocalendar().week)\n",
    "df0.loc[:,\"weeks_sin\"] = np.sin(week_num * ((2/np.pi)/52))\n",
    "df0.loc[:,\"weeks_cos\"] = np.cos(week_num * ((2/np.pi)/52))\n",
    "# print(week_num)\n",
    "\n",
    "hr0 = df0.index.hour\n",
    "# df0[\"hours_sin\"] = np.sin((hr0)*((2/np.pi)/24))\n",
    "df0.loc[:,\"hours_sin\"] = np.sin((hr0)*((2/np.pi)/24))\n",
    "df0.loc[:,\"hours_cos\"] = np.cos((hr0)*((2/np.pi)/24))\n",
    "df0"
   ],
   "metadata": {
    "collapsed": false
   }
  },
  {
   "cell_type": "markdown",
   "source": [
    "### Let's train the RF classifier. Can we pass in a 6-hour temperature change as a way to provide \"memory\" to the RF model?"
   ],
   "metadata": {
    "collapsed": false
   }
  },
  {
   "cell_type": "code",
   "execution_count": 95,
   "outputs": [
    {
     "name": "stdout",
     "output_type": "stream",
     "text": [
      "[0 0 0 0 0 0 1 1 1 1]\n"
     ]
    },
    {
     "name": "stderr",
     "output_type": "stream",
     "text": [
      "C:\\Users\\jlawson4\\AppData\\Local\\Temp\\ipykernel_42812\\3103317593.py:5: SettingWithCopyWarning: \n",
      "A value is trying to be set on a copy of a slice from a DataFrame.\n",
      "Try using .loc[row_indexer,col_indexer] = value instead\n",
      "\n",
      "See the caveats in the documentation: https://pandas.pydata.org/pandas-docs/stable/user_guide/indexing.html#returning-a-view-versus-a-copy\n",
      "  df12['exceed_10'] = (df[\"air_temp\"]>10).astype(int)\n"
     ]
    },
    {
     "data": {
      "text/plain": "                           air_temp  dew_point_temperature  wind_speed  \\\ndate_time                                                                \n2021-10-20 12:00:00+00:00       8.0                   8.00       2.058   \n2021-10-21 12:00:00+00:00      15.0                  13.99       4.116   \n2021-10-22 12:00:00+00:00       5.0                   3.99       0.000   \n2021-10-23 12:00:00+00:00       6.0                   6.00       2.058   \n2021-10-24 12:00:00+00:00      -1.0                  -1.00       0.000   \n...                             ...                    ...         ...   \n2022-10-15 12:00:00+00:00       3.0                   0.97       3.601   \n2022-10-16 12:00:00+00:00       5.0                   2.97       1.543   \n2022-10-17 12:00:00+00:00       4.0                   1.97       5.659   \n2022-10-18 12:00:00+00:00       3.0                  -1.06       8.231   \n2022-10-19 12:00:00+00:00       4.0                   1.97       5.659   \n\n                           exceed_10  \ndate_time                             \n2021-10-20 12:00:00+00:00          0  \n2021-10-21 12:00:00+00:00          1  \n2021-10-22 12:00:00+00:00          0  \n2021-10-23 12:00:00+00:00          0  \n2021-10-24 12:00:00+00:00          0  \n...                              ...  \n2022-10-15 12:00:00+00:00          0  \n2022-10-16 12:00:00+00:00          0  \n2022-10-17 12:00:00+00:00          0  \n2022-10-18 12:00:00+00:00          0  \n2022-10-19 12:00:00+00:00          0  \n\n[358 rows x 4 columns]",
      "text/html": "<div>\n<style scoped>\n    .dataframe tbody tr th:only-of-type {\n        vertical-align: middle;\n    }\n\n    .dataframe tbody tr th {\n        vertical-align: top;\n    }\n\n    .dataframe thead th {\n        text-align: right;\n    }\n</style>\n<table border=\"1\" class=\"dataframe\">\n  <thead>\n    <tr style=\"text-align: right;\">\n      <th></th>\n      <th>air_temp</th>\n      <th>dew_point_temperature</th>\n      <th>wind_speed</th>\n      <th>exceed_10</th>\n    </tr>\n    <tr>\n      <th>date_time</th>\n      <th></th>\n      <th></th>\n      <th></th>\n      <th></th>\n    </tr>\n  </thead>\n  <tbody>\n    <tr>\n      <th>2021-10-20 12:00:00+00:00</th>\n      <td>8.0</td>\n      <td>8.00</td>\n      <td>2.058</td>\n      <td>0</td>\n    </tr>\n    <tr>\n      <th>2021-10-21 12:00:00+00:00</th>\n      <td>15.0</td>\n      <td>13.99</td>\n      <td>4.116</td>\n      <td>1</td>\n    </tr>\n    <tr>\n      <th>2021-10-22 12:00:00+00:00</th>\n      <td>5.0</td>\n      <td>3.99</td>\n      <td>0.000</td>\n      <td>0</td>\n    </tr>\n    <tr>\n      <th>2021-10-23 12:00:00+00:00</th>\n      <td>6.0</td>\n      <td>6.00</td>\n      <td>2.058</td>\n      <td>0</td>\n    </tr>\n    <tr>\n      <th>2021-10-24 12:00:00+00:00</th>\n      <td>-1.0</td>\n      <td>-1.00</td>\n      <td>0.000</td>\n      <td>0</td>\n    </tr>\n    <tr>\n      <th>...</th>\n      <td>...</td>\n      <td>...</td>\n      <td>...</td>\n      <td>...</td>\n    </tr>\n    <tr>\n      <th>2022-10-15 12:00:00+00:00</th>\n      <td>3.0</td>\n      <td>0.97</td>\n      <td>3.601</td>\n      <td>0</td>\n    </tr>\n    <tr>\n      <th>2022-10-16 12:00:00+00:00</th>\n      <td>5.0</td>\n      <td>2.97</td>\n      <td>1.543</td>\n      <td>0</td>\n    </tr>\n    <tr>\n      <th>2022-10-17 12:00:00+00:00</th>\n      <td>4.0</td>\n      <td>1.97</td>\n      <td>5.659</td>\n      <td>0</td>\n    </tr>\n    <tr>\n      <th>2022-10-18 12:00:00+00:00</th>\n      <td>3.0</td>\n      <td>-1.06</td>\n      <td>8.231</td>\n      <td>0</td>\n    </tr>\n    <tr>\n      <th>2022-10-19 12:00:00+00:00</th>\n      <td>4.0</td>\n      <td>1.97</td>\n      <td>5.659</td>\n      <td>0</td>\n    </tr>\n  </tbody>\n</table>\n<p>358 rows × 4 columns</p>\n</div>"
     },
     "execution_count": 95,
     "metadata": {},
     "output_type": "execute_result"
    }
   ],
   "source": [
    "x = np.arange(10)\n",
    "y = x > 5\n",
    "print(np.array(y,dtype=int))\n",
    "\n",
    "df12['exceed_10'] = (df[\"air_temp\"]>10).astype(int)\n",
    "df12"
   ],
   "metadata": {
    "collapsed": false
   }
  },
  {
   "cell_type": "code",
   "execution_count": 96,
   "outputs": [
    {
     "name": "stdout",
     "output_type": "stream",
     "text": [
      "(179, 7) (179, 7) (179,) (179,)\n"
     ]
    }
   ],
   "source": [
    "from sklearn.model_selection import train_test_split as tts\n",
    "f_train, f_test, l_train, l_test = tts(df0.values, df12['exceed_10'].values, test_size=0.5)\n",
    "print(f_train.shape, f_test.shape, l_train.shape, l_test.shape)"
   ],
   "metadata": {
    "collapsed": false
   }
  },
  {
   "cell_type": "markdown",
   "source": [
    "### Evaluate (verify) performance using a few measures.\n",
    "Check the sklearn documentation for modules you can import to help (`sklearn.metrics`).\n"
   ],
   "metadata": {
    "collapsed": false
   }
  },
  {
   "cell_type": "code",
   "execution_count": 97,
   "outputs": [
    {
     "data": {
      "text/plain": "    0\n0   0\n1   1\n2   1\n3   1\n4   1\n5   0\n6   0\n7   1\n8   0\n9   0\n10  1\n11  0\n12  0\n13  0\n14  1\n15  0\n16  0\n17  1\n18  0\n19  0",
      "text/html": "<div>\n<style scoped>\n    .dataframe tbody tr th:only-of-type {\n        vertical-align: middle;\n    }\n\n    .dataframe tbody tr th {\n        vertical-align: top;\n    }\n\n    .dataframe thead th {\n        text-align: right;\n    }\n</style>\n<table border=\"1\" class=\"dataframe\">\n  <thead>\n    <tr style=\"text-align: right;\">\n      <th></th>\n      <th>0</th>\n    </tr>\n  </thead>\n  <tbody>\n    <tr>\n      <th>0</th>\n      <td>0</td>\n    </tr>\n    <tr>\n      <th>1</th>\n      <td>1</td>\n    </tr>\n    <tr>\n      <th>2</th>\n      <td>1</td>\n    </tr>\n    <tr>\n      <th>3</th>\n      <td>1</td>\n    </tr>\n    <tr>\n      <th>4</th>\n      <td>1</td>\n    </tr>\n    <tr>\n      <th>5</th>\n      <td>0</td>\n    </tr>\n    <tr>\n      <th>6</th>\n      <td>0</td>\n    </tr>\n    <tr>\n      <th>7</th>\n      <td>1</td>\n    </tr>\n    <tr>\n      <th>8</th>\n      <td>0</td>\n    </tr>\n    <tr>\n      <th>9</th>\n      <td>0</td>\n    </tr>\n    <tr>\n      <th>10</th>\n      <td>1</td>\n    </tr>\n    <tr>\n      <th>11</th>\n      <td>0</td>\n    </tr>\n    <tr>\n      <th>12</th>\n      <td>0</td>\n    </tr>\n    <tr>\n      <th>13</th>\n      <td>0</td>\n    </tr>\n    <tr>\n      <th>14</th>\n      <td>1</td>\n    </tr>\n    <tr>\n      <th>15</th>\n      <td>0</td>\n    </tr>\n    <tr>\n      <th>16</th>\n      <td>0</td>\n    </tr>\n    <tr>\n      <th>17</th>\n      <td>1</td>\n    </tr>\n    <tr>\n      <th>18</th>\n      <td>0</td>\n    </tr>\n    <tr>\n      <th>19</th>\n      <td>0</td>\n    </tr>\n  </tbody>\n</table>\n</div>"
     },
     "execution_count": 97,
     "metadata": {},
     "output_type": "execute_result"
    }
   ],
   "source": [
    "from sklearn.ensemble import RandomForestClassifier as RFC\n",
    "rfc=RFC(n_estimators=100)\n",
    "\n",
    "rfc.fit(f_train,np.ravel(l_train))\n",
    "fcst = rfc.predict(f_test)\n",
    "\n",
    "pd.DataFrame(fcst).head(20)"
   ],
   "metadata": {
    "collapsed": false
   }
  },
  {
   "cell_type": "code",
   "execution_count": 98,
   "outputs": [
    {
     "data": {
      "text/plain": "    0\n0   0\n1   1\n2   1\n3   1\n4   1\n5   1\n6   0\n7   1\n8   0\n9   0\n10  1\n11  0\n12  0\n13  0\n14  1\n15  0\n16  0\n17  1\n18  0\n19  0",
      "text/html": "<div>\n<style scoped>\n    .dataframe tbody tr th:only-of-type {\n        vertical-align: middle;\n    }\n\n    .dataframe tbody tr th {\n        vertical-align: top;\n    }\n\n    .dataframe thead th {\n        text-align: right;\n    }\n</style>\n<table border=\"1\" class=\"dataframe\">\n  <thead>\n    <tr style=\"text-align: right;\">\n      <th></th>\n      <th>0</th>\n    </tr>\n  </thead>\n  <tbody>\n    <tr>\n      <th>0</th>\n      <td>0</td>\n    </tr>\n    <tr>\n      <th>1</th>\n      <td>1</td>\n    </tr>\n    <tr>\n      <th>2</th>\n      <td>1</td>\n    </tr>\n    <tr>\n      <th>3</th>\n      <td>1</td>\n    </tr>\n    <tr>\n      <th>4</th>\n      <td>1</td>\n    </tr>\n    <tr>\n      <th>5</th>\n      <td>1</td>\n    </tr>\n    <tr>\n      <th>6</th>\n      <td>0</td>\n    </tr>\n    <tr>\n      <th>7</th>\n      <td>1</td>\n    </tr>\n    <tr>\n      <th>8</th>\n      <td>0</td>\n    </tr>\n    <tr>\n      <th>9</th>\n      <td>0</td>\n    </tr>\n    <tr>\n      <th>10</th>\n      <td>1</td>\n    </tr>\n    <tr>\n      <th>11</th>\n      <td>0</td>\n    </tr>\n    <tr>\n      <th>12</th>\n      <td>0</td>\n    </tr>\n    <tr>\n      <th>13</th>\n      <td>0</td>\n    </tr>\n    <tr>\n      <th>14</th>\n      <td>1</td>\n    </tr>\n    <tr>\n      <th>15</th>\n      <td>0</td>\n    </tr>\n    <tr>\n      <th>16</th>\n      <td>0</td>\n    </tr>\n    <tr>\n      <th>17</th>\n      <td>1</td>\n    </tr>\n    <tr>\n      <th>18</th>\n      <td>0</td>\n    </tr>\n    <tr>\n      <th>19</th>\n      <td>0</td>\n    </tr>\n  </tbody>\n</table>\n</div>"
     },
     "execution_count": 98,
     "metadata": {},
     "output_type": "execute_result"
    }
   ],
   "source": [
    "pd.DataFrame(l_test).head(20)"
   ],
   "metadata": {
    "collapsed": false
   }
  },
  {
   "cell_type": "code",
   "execution_count": 99,
   "outputs": [
    {
     "name": "stdout",
     "output_type": "stream",
     "text": [
      "0.8380718531920393\n"
     ]
    }
   ],
   "source": [
    "from sklearn import metrics\n",
    "print(metrics.r2_score(l_test,fcst))"
   ],
   "metadata": {
    "collapsed": false
   }
  },
  {
   "cell_type": "markdown",
   "source": [
    "### Iterate!\n",
    "At this point, if we find ourselves repeating code, or want to avoid having to copy, paste, edit, and produce spaghetti... We can make loose code into functions. Have a browse above to see if that's something to do before we move on to iterating the model.\n",
    "\n",
    "#### What can we change?\n",
    "For instance:\n",
    "- Variables\n",
    "- RF forest size\n",
    "- RF parameters in documentation (here be dragons!)"
   ],
   "metadata": {
    "collapsed": false
   }
  },
  {
   "cell_type": "markdown",
   "source": [],
   "metadata": {
    "collapsed": false
   }
  }
 ],
 "metadata": {
  "kernelspec": {
   "display_name": "Python 3",
   "language": "python",
   "name": "python3"
  },
  "language_info": {
   "codemirror_mode": {
    "name": "ipython",
    "version": 2
   },
   "file_extension": ".py",
   "mimetype": "text/x-python",
   "name": "python",
   "nbconvert_exporter": "python",
   "pygments_lexer": "ipython2",
   "version": "2.7.6"
  }
 },
 "nbformat": 4,
 "nbformat_minor": 0
}
