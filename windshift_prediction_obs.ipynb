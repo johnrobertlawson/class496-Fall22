{
 "cells": [
  {
   "cell_type": "markdown",
   "source": [
    "# Predicting wind shifts with observations\n",
    "\n",
    "Here, we will combine our detection of lake-breeze fronts with obtaining observations and training a Random Forest model.\n",
    "\n",
    "The goal is:\n",
    "* Download observations for the last year for two airports and other regional sites\n",
    "* Compute a column of \"lake-breeze frontal passage\" by detecting a sudden increase in easterly component of wind - this is what we want to predict\n",
    "* We can use a Random Forest to measure how much the regional observations explain the variance of whether a lake-breeze front passed\n",
    "* In turn, this model could then be used to predict wind shifts by exchanging observations for numerical-guidance values (this may be outside the scope of our work)\n",
    "\n",
    "It is paramount that students work together to identify strengths and weaknesses in getting the paper written. Some of this is making sure there is a 3:1 effort ratio related to credit hours."
   ],
   "metadata": {
    "collapsed": false
   }
  },
  {
   "cell_type": "markdown",
   "source": [
    "### Step 1: Get the observational data (see `rf_obs_tutorial`)\n"
   ],
   "metadata": {
    "collapsed": false
   }
  },
  {
   "cell_type": "code",
   "execution_count": null,
   "outputs": [],
   "source": [],
   "metadata": {
    "collapsed": false
   }
  },
  {
   "cell_type": "markdown",
   "source": [
    "### Step 2: Organise the data with pandas\n"
   ],
   "metadata": {
    "collapsed": false
   }
  },
  {
   "cell_type": "code",
   "execution_count": null,
   "outputs": [],
   "source": [],
   "metadata": {
    "collapsed": false
   }
  },
  {
   "cell_type": "markdown",
   "source": [
    "### Step 3: Compute a column that gives \"1\" for a lake-breeze passage that day, or a \"0\" otherwise\n",
    "This lets us train the observations on whether that (local-time) day had a lake breeze. To see examples of detection functions, see `detect_lbf`."
   ],
   "metadata": {
    "collapsed": false
   }
  },
  {
   "cell_type": "code",
   "execution_count": null,
   "outputs": [],
   "source": [],
   "metadata": {
    "collapsed": false
   }
  },
  {
   "cell_type": "markdown",
   "source": [
    "### Step 4: Create a Random Forest model (see `rf_obs_tutorial`)"
   ],
   "metadata": {
    "collapsed": false
   }
  },
  {
   "cell_type": "code",
   "execution_count": null,
   "outputs": [],
   "source": [],
   "metadata": {
    "collapsed": false
   }
  },
  {
   "cell_type": "markdown",
   "source": [
    "### Step 5: Play with the data; see what is important for predicting LBF passages.\n",
    "Find a conclusion, which might be something like \"We can predict 75% of the variance of whether a LBF passages or not using a given set of archived observations\". This would be an experimental support for the paper, which would go on to explain how to implement such a system to forecast lake-breezes.\n",
    "\n",
    "You might want to plot some images for a specific case to show the physical depiction of one day's random-forest output. Don't forget there is code in `lbf_casestudy_assignment` to help you use HRRR data as a proxy (i.e., next-best thing after having weather stations every 50 metres!)."
   ],
   "metadata": {
    "collapsed": false
   }
  }
 ],
 "metadata": {
  "kernelspec": {
   "display_name": "Python 3",
   "language": "python",
   "name": "python3"
  },
  "language_info": {
   "codemirror_mode": {
    "name": "ipython",
    "version": 2
   },
   "file_extension": ".py",
   "mimetype": "text/x-python",
   "name": "python",
   "nbconvert_exporter": "python",
   "pygments_lexer": "ipython2",
   "version": "2.7.6"
  }
 },
 "nbformat": 4,
 "nbformat_minor": 0
}
